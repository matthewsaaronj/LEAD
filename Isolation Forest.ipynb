{
 "cells": [
  {
   "cell_type": "code",
   "execution_count": 1,
   "id": "5a04bd3a-ada6-4b4d-b3c4-60a9709cd70b",
   "metadata": {
    "tags": []
   },
   "outputs": [],
   "source": [
    "import pandas as pd\n",
    "import numpy as np"
   ]
  },
  {
   "cell_type": "code",
   "execution_count": 2,
   "id": "9d3a0893-a46a-4533-b4d6-a8753bab3ffd",
   "metadata": {
    "tags": []
   },
   "outputs": [
    {
     "data": {
      "text/html": [
       "<div>\n",
       "<style scoped>\n",
       "    .dataframe tbody tr th:only-of-type {\n",
       "        vertical-align: middle;\n",
       "    }\n",
       "\n",
       "    .dataframe tbody tr th {\n",
       "        vertical-align: top;\n",
       "    }\n",
       "\n",
       "    .dataframe thead th {\n",
       "        text-align: right;\n",
       "    }\n",
       "</style>\n",
       "<table border=\"1\" class=\"dataframe\">\n",
       "  <thead>\n",
       "    <tr style=\"text-align: right;\">\n",
       "      <th></th>\n",
       "      <th>building_id</th>\n",
       "      <th>meter_reading</th>\n",
       "      <th>anomaly</th>\n",
       "    </tr>\n",
       "    <tr>\n",
       "      <th>timestamp</th>\n",
       "      <th></th>\n",
       "      <th></th>\n",
       "      <th></th>\n",
       "    </tr>\n",
       "  </thead>\n",
       "  <tbody>\n",
       "    <tr>\n",
       "      <th>2016-01-01</th>\n",
       "      <td>1</td>\n",
       "      <td>NaN</td>\n",
       "      <td>0</td>\n",
       "    </tr>\n",
       "    <tr>\n",
       "      <th>2016-01-01</th>\n",
       "      <td>32</td>\n",
       "      <td>NaN</td>\n",
       "      <td>0</td>\n",
       "    </tr>\n",
       "    <tr>\n",
       "      <th>2016-01-01</th>\n",
       "      <td>41</td>\n",
       "      <td>NaN</td>\n",
       "      <td>0</td>\n",
       "    </tr>\n",
       "    <tr>\n",
       "      <th>2016-01-01</th>\n",
       "      <td>55</td>\n",
       "      <td>NaN</td>\n",
       "      <td>0</td>\n",
       "    </tr>\n",
       "    <tr>\n",
       "      <th>2016-01-01</th>\n",
       "      <td>69</td>\n",
       "      <td>NaN</td>\n",
       "      <td>0</td>\n",
       "    </tr>\n",
       "  </tbody>\n",
       "</table>\n",
       "</div>"
      ],
      "text/plain": [
       "            building_id  meter_reading  anomaly\n",
       "timestamp                                      \n",
       "2016-01-01            1            NaN        0\n",
       "2016-01-01           32            NaN        0\n",
       "2016-01-01           41            NaN        0\n",
       "2016-01-01           55            NaN        0\n",
       "2016-01-01           69            NaN        0"
      ]
     },
     "execution_count": 2,
     "metadata": {},
     "output_type": "execute_result"
    }
   ],
   "source": [
    "data = pd.read_csv('/Users/aaronmatthews/Google Drive/My Drive/ml_datasets/lead/train.csv')\n",
    "data['timestamp'] = pd.to_datetime(data['timestamp'])\n",
    "data.set_index('timestamp', inplace=True)\n",
    "data.head()"
   ]
  },
  {
   "cell_type": "code",
   "execution_count": 3,
   "id": "93405642-05de-498b-a2c4-795dca543c93",
   "metadata": {
    "tags": []
   },
   "outputs": [],
   "source": [
    "from sklearn.model_selection import GroupShuffleSplit\n",
    "gss = GroupShuffleSplit(n_splits=2, test_size=.2, random_state=42)\n",
    "\n",
    "for train_index, valid_index in gss.split(data, groups = data.building_id):\n",
    "    train, valid = data.iloc[train_index], data.iloc[valid_index]"
   ]
  },
  {
   "cell_type": "code",
   "execution_count": 4,
   "id": "168154f6-2b88-4595-9341-6efc0143e66c",
   "metadata": {
    "tags": []
   },
   "outputs": [
    {
     "data": {
      "text/plain": [
       "array([  32,   41,   55,   79,   82,   91,  107,  111,  117,  118,  136,\n",
       "        137,  139,  141,  144,  147,  148,  149,  159,  171,  173,  174,\n",
       "        181,  183,  235,  238,  246,  248,  253,  254,  263,  270,  275,\n",
       "        276,  278,  293,  312,  318,  335,  345,  356,  423,  439,  492,\n",
       "        534,  623,  653,  657,  658,  666,  673,  675,  677,  683,  685,\n",
       "        687,  693,  698,  701,  708,  710,  721,  729,  730,  732,  742,\n",
       "        827,  844,  848,  880,  882,  884,  887,  889,  892,  893,  894,\n",
       "        895,  896,  905,  914,  922,  924,  926,  928,  929,  931,  935,\n",
       "        936,  942,  948,  950,  952,  961,  967,  968,  970,  973,  974,\n",
       "        975,  977,  978,  988,  990,  994,  996, 1001, 1007, 1073, 1106,\n",
       "       1120, 1128, 1137, 1141, 1143, 1147, 1172, 1219, 1225, 1226, 1232,\n",
       "       1234, 1238, 1239, 1241, 1242, 1246, 1247, 1249, 1251, 1252, 1253,\n",
       "       1257, 1258, 1259, 1260, 1261, 1264, 1266, 1272, 1275, 1278, 1283,\n",
       "       1284, 1285, 1296, 1297, 1300, 1302, 1303, 1304, 1306, 1310, 1311,\n",
       "       1315, 1316, 1318, 1319, 1323, 1353])"
      ]
     },
     "execution_count": 4,
     "metadata": {},
     "output_type": "execute_result"
    }
   ],
   "source": [
    "train.building_id.unique()"
   ]
  },
  {
   "cell_type": "code",
   "execution_count": 17,
   "id": "569a07db-93bb-4941-a5ec-7fef405ac933",
   "metadata": {
    "tags": []
   },
   "outputs": [
    {
     "data": {
      "text/html": [
       "<div>\n",
       "<style scoped>\n",
       "    .dataframe tbody tr th:only-of-type {\n",
       "        vertical-align: middle;\n",
       "    }\n",
       "\n",
       "    .dataframe tbody tr th {\n",
       "        vertical-align: top;\n",
       "    }\n",
       "\n",
       "    .dataframe thead th {\n",
       "        text-align: right;\n",
       "    }\n",
       "</style>\n",
       "<table border=\"1\" class=\"dataframe\">\n",
       "  <thead>\n",
       "    <tr style=\"text-align: right;\">\n",
       "      <th></th>\n",
       "      <th></th>\n",
       "      <th>meter_reading</th>\n",
       "    </tr>\n",
       "    <tr>\n",
       "      <th>timestamp</th>\n",
       "      <th>building_id</th>\n",
       "      <th></th>\n",
       "    </tr>\n",
       "  </thead>\n",
       "  <tbody>\n",
       "    <tr>\n",
       "      <th rowspan=\"5\" valign=\"top\">2016-01-01 00:00:00</th>\n",
       "      <th>107</th>\n",
       "      <td>175.184</td>\n",
       "    </tr>\n",
       "    <tr>\n",
       "      <th>111</th>\n",
       "      <td>167.392</td>\n",
       "    </tr>\n",
       "    <tr>\n",
       "      <th>117</th>\n",
       "      <td>16.306</td>\n",
       "    </tr>\n",
       "    <tr>\n",
       "      <th>118</th>\n",
       "      <td>117.200</td>\n",
       "    </tr>\n",
       "    <tr>\n",
       "      <th>137</th>\n",
       "      <td>14.250</td>\n",
       "    </tr>\n",
       "    <tr>\n",
       "      <th>...</th>\n",
       "      <th>...</th>\n",
       "      <td>...</td>\n",
       "    </tr>\n",
       "    <tr>\n",
       "      <th rowspan=\"5\" valign=\"top\">2016-12-31 23:00:00</th>\n",
       "      <th>1315</th>\n",
       "      <td>32.520</td>\n",
       "    </tr>\n",
       "    <tr>\n",
       "      <th>1316</th>\n",
       "      <td>38.844</td>\n",
       "    </tr>\n",
       "    <tr>\n",
       "      <th>1318</th>\n",
       "      <td>202.893</td>\n",
       "    </tr>\n",
       "    <tr>\n",
       "      <th>1323</th>\n",
       "      <td>172.000</td>\n",
       "    </tr>\n",
       "    <tr>\n",
       "      <th>1353</th>\n",
       "      <td>2.400</td>\n",
       "    </tr>\n",
       "  </tbody>\n",
       "</table>\n",
       "<p>1316818 rows × 1 columns</p>\n",
       "</div>"
      ],
      "text/plain": [
       "                                 meter_reading\n",
       "timestamp           building_id               \n",
       "2016-01-01 00:00:00 107                175.184\n",
       "                    111                167.392\n",
       "                    117                 16.306\n",
       "                    118                117.200\n",
       "                    137                 14.250\n",
       "...                                        ...\n",
       "2016-12-31 23:00:00 1315                32.520\n",
       "                    1316                38.844\n",
       "                    1318               202.893\n",
       "                    1323               172.000\n",
       "                    1353                 2.400\n",
       "\n",
       "[1316818 rows x 1 columns]"
      ]
     },
     "execution_count": 17,
     "metadata": {},
     "output_type": "execute_result"
    }
   ],
   "source": [
    "X_train = train.reset_index()\n",
    "X_train.set_index(['timestamp', 'building_id'], drop=True, inplace=True)\n",
    "X_train = X_train[~X_train['meter_reading'].isnull()]\n",
    "\n",
    "y_train = X_train['anomaly']\n",
    "X_train.drop('anomaly', axis=1, inplace=True)\n",
    "X_train"
   ]
  },
  {
   "cell_type": "code",
   "execution_count": 18,
   "id": "56a4f4d8-3f69-4577-aa67-7c83f31e0758",
   "metadata": {
    "tags": []
   },
   "outputs": [
    {
     "data": {
      "text/plain": [
       "0.0229242006108665"
      ]
     },
     "execution_count": 18,
     "metadata": {},
     "output_type": "execute_result"
    }
   ],
   "source": [
    "y_train.mean()"
   ]
  },
  {
   "cell_type": "markdown",
   "id": "76222ab6-5a67-4315-8e63-98e36354feb7",
   "metadata": {
    "tags": []
   },
   "source": [
    "# Isolation Forest Baseline"
   ]
  },
  {
   "cell_type": "code",
   "execution_count": 7,
   "id": "227fbe99-a951-4338-91de-5d26eced2f28",
   "metadata": {
    "tags": []
   },
   "outputs": [],
   "source": [
    "from sklearn.ensemble import IsolationForest\n",
    "from sklearn.metrics import roc_auc_score"
   ]
  },
  {
   "cell_type": "code",
   "execution_count": 8,
   "id": "f3b30c54-92b5-48c0-b7e2-51918b8edc79",
   "metadata": {
    "tags": []
   },
   "outputs": [
    {
     "data": {
      "text/html": [
       "<style>#sk-container-id-1 {color: black;}#sk-container-id-1 pre{padding: 0;}#sk-container-id-1 div.sk-toggleable {background-color: white;}#sk-container-id-1 label.sk-toggleable__label {cursor: pointer;display: block;width: 100%;margin-bottom: 0;padding: 0.3em;box-sizing: border-box;text-align: center;}#sk-container-id-1 label.sk-toggleable__label-arrow:before {content: \"▸\";float: left;margin-right: 0.25em;color: #696969;}#sk-container-id-1 label.sk-toggleable__label-arrow:hover:before {color: black;}#sk-container-id-1 div.sk-estimator:hover label.sk-toggleable__label-arrow:before {color: black;}#sk-container-id-1 div.sk-toggleable__content {max-height: 0;max-width: 0;overflow: hidden;text-align: left;background-color: #f0f8ff;}#sk-container-id-1 div.sk-toggleable__content pre {margin: 0.2em;color: black;border-radius: 0.25em;background-color: #f0f8ff;}#sk-container-id-1 input.sk-toggleable__control:checked~div.sk-toggleable__content {max-height: 200px;max-width: 100%;overflow: auto;}#sk-container-id-1 input.sk-toggleable__control:checked~label.sk-toggleable__label-arrow:before {content: \"▾\";}#sk-container-id-1 div.sk-estimator input.sk-toggleable__control:checked~label.sk-toggleable__label {background-color: #d4ebff;}#sk-container-id-1 div.sk-label input.sk-toggleable__control:checked~label.sk-toggleable__label {background-color: #d4ebff;}#sk-container-id-1 input.sk-hidden--visually {border: 0;clip: rect(1px 1px 1px 1px);clip: rect(1px, 1px, 1px, 1px);height: 1px;margin: -1px;overflow: hidden;padding: 0;position: absolute;width: 1px;}#sk-container-id-1 div.sk-estimator {font-family: monospace;background-color: #f0f8ff;border: 1px dotted black;border-radius: 0.25em;box-sizing: border-box;margin-bottom: 0.5em;}#sk-container-id-1 div.sk-estimator:hover {background-color: #d4ebff;}#sk-container-id-1 div.sk-parallel-item::after {content: \"\";width: 100%;border-bottom: 1px solid gray;flex-grow: 1;}#sk-container-id-1 div.sk-label:hover label.sk-toggleable__label {background-color: #d4ebff;}#sk-container-id-1 div.sk-serial::before {content: \"\";position: absolute;border-left: 1px solid gray;box-sizing: border-box;top: 0;bottom: 0;left: 50%;z-index: 0;}#sk-container-id-1 div.sk-serial {display: flex;flex-direction: column;align-items: center;background-color: white;padding-right: 0.2em;padding-left: 0.2em;position: relative;}#sk-container-id-1 div.sk-item {position: relative;z-index: 1;}#sk-container-id-1 div.sk-parallel {display: flex;align-items: stretch;justify-content: center;background-color: white;position: relative;}#sk-container-id-1 div.sk-item::before, #sk-container-id-1 div.sk-parallel-item::before {content: \"\";position: absolute;border-left: 1px solid gray;box-sizing: border-box;top: 0;bottom: 0;left: 50%;z-index: -1;}#sk-container-id-1 div.sk-parallel-item {display: flex;flex-direction: column;z-index: 1;position: relative;background-color: white;}#sk-container-id-1 div.sk-parallel-item:first-child::after {align-self: flex-end;width: 50%;}#sk-container-id-1 div.sk-parallel-item:last-child::after {align-self: flex-start;width: 50%;}#sk-container-id-1 div.sk-parallel-item:only-child::after {width: 0;}#sk-container-id-1 div.sk-dashed-wrapped {border: 1px dashed gray;margin: 0 0.4em 0.5em 0.4em;box-sizing: border-box;padding-bottom: 0.4em;background-color: white;}#sk-container-id-1 div.sk-label label {font-family: monospace;font-weight: bold;display: inline-block;line-height: 1.2em;}#sk-container-id-1 div.sk-label-container {text-align: center;}#sk-container-id-1 div.sk-container {/* jupyter's `normalize.less` sets `[hidden] { display: none; }` but bootstrap.min.css set `[hidden] { display: none !important; }` so we also need the `!important` here to be able to override the default hidden behavior on the sphinx rendered scikit-learn.org. See: https://github.com/scikit-learn/scikit-learn/issues/21755 */display: inline-block !important;position: relative;}#sk-container-id-1 div.sk-text-repr-fallback {display: none;}</style><div id=\"sk-container-id-1\" class=\"sk-top-container\"><div class=\"sk-text-repr-fallback\"><pre>IsolationForest(contamination=0.02, random_state=42)</pre><b>In a Jupyter environment, please rerun this cell to show the HTML representation or trust the notebook. <br />On GitHub, the HTML representation is unable to render, please try loading this page with nbviewer.org.</b></div><div class=\"sk-container\" hidden><div class=\"sk-item\"><div class=\"sk-estimator sk-toggleable\"><input class=\"sk-toggleable__control sk-hidden--visually\" id=\"sk-estimator-id-1\" type=\"checkbox\" checked><label for=\"sk-estimator-id-1\" class=\"sk-toggleable__label sk-toggleable__label-arrow\">IsolationForest</label><div class=\"sk-toggleable__content\"><pre>IsolationForest(contamination=0.02, random_state=42)</pre></div></div></div></div></div>"
      ],
      "text/plain": [
       "IsolationForest(contamination=0.02, random_state=42)"
      ]
     },
     "execution_count": 8,
     "metadata": {},
     "output_type": "execute_result"
    }
   ],
   "source": [
    "iso = IsolationForest(contamination = 0.02, random_state=42)\n",
    "iso.fit(X_train)"
   ]
  },
  {
   "cell_type": "code",
   "execution_count": 9,
   "id": "6538ec4e-b6e2-4dd6-840e-fdc68df3cd8e",
   "metadata": {
    "tags": []
   },
   "outputs": [
    {
     "data": {
      "text/plain": [
       "100"
      ]
     },
     "execution_count": 9,
     "metadata": {},
     "output_type": "execute_result"
    }
   ],
   "source": [
    "iso.n_estimators"
   ]
  },
  {
   "cell_type": "code",
   "execution_count": 10,
   "id": "137ef3f9-c59d-493f-bae4-dad2932abc47",
   "metadata": {
    "tags": []
   },
   "outputs": [
    {
     "data": {
      "text/plain": [
       "array([0, 0, 0, ..., 0, 0, 0])"
      ]
     },
     "execution_count": 10,
     "metadata": {},
     "output_type": "execute_result"
    }
   ],
   "source": [
    "preds = np.where(iso.predict(X_train) == -1, 1, 0)\n",
    "preds\n"
   ]
  },
  {
   "cell_type": "code",
   "execution_count": 11,
   "id": "600c8a26-59a2-4442-a4c3-49d7f33a12b4",
   "metadata": {
    "tags": []
   },
   "outputs": [
    {
     "data": {
      "text/plain": [
       "0.5040197527753827"
      ]
     },
     "execution_count": 11,
     "metadata": {},
     "output_type": "execute_result"
    }
   ],
   "source": [
    "roc_auc_score(y_train.values, preds)"
   ]
  },
  {
   "cell_type": "markdown",
   "id": "97585af9-fa66-4ee9-92aa-658aaa2e211e",
   "metadata": {
    "tags": []
   },
   "source": [
    "## Isolation Forest Hyperparameter Tuning"
   ]
  },
  {
   "cell_type": "code",
   "execution_count": 12,
   "id": "6001ea2a-bbee-4c6f-937a-397a26b2d270",
   "metadata": {
    "tags": []
   },
   "outputs": [
    {
     "name": "stderr",
     "output_type": "stream",
     "text": [
      "/Users/aaronmatthews/anaconda3/envs/mlenv_v1/lib/python3.8/site-packages/tqdm/auto.py:21: TqdmWarning: IProgress not found. Please update jupyter and ipywidgets. See https://ipywidgets.readthedocs.io/en/stable/user_install.html\n",
      "  from .autonotebook import tqdm as notebook_tqdm\n"
     ]
    }
   ],
   "source": [
    "import optuna\n",
    "from sklearn.model_selection import GroupKFold"
   ]
  },
  {
   "cell_type": "code",
   "execution_count": 13,
   "id": "d674f8e3-295b-4bf9-9d97-b160d1e5bbc3",
   "metadata": {},
   "outputs": [],
   "source": [
    "def objective(trial, X, y, n_splits, n_repeats, pipe_feed):\n",
    "    random.seed(42)\n",
    "    param_grid = {\n",
    "        'n_estimators': trial.suggest_int('n_estimators', 50, 150),\n",
    "        'max_samples': trial.suggest_float('max_samples', 0.5, 1.0),\n",
    "        'contamination': trial.suggest_float('contamination', 0.01, 0.05),\n",
    "        # max features\n",
    "        'bootstrap': trial.suggest_categorical('bootstrap', [True, False])\n",
    "    }\n",
    "    \n",
    "    "
   ]
  },
  {
   "cell_type": "code",
   "execution_count": 25,
   "id": "8e73631f-abe3-4c70-bbd5-e443f7841815",
   "metadata": {
    "tags": []
   },
   "outputs": [],
   "source": [
    "n_splits = 5\n",
    "cv = KFold(n_splits = n_splits, shuffle=True, random_state=42)\n",
    "\n",
    "for idx, (train_idx, valid_idx) in enumerate(cv.split(X_train, y_train)):\n",
    "    X_tr, X_val = X_train.iloc[train_idx], X_train.iloc[valid_idx]\n",
    "    y_tr, y_val = y_train.iloc[train_idx], y_train.iloc[valid_idx]"
   ]
  },
  {
   "cell_type": "code",
   "execution_count": 53,
   "id": "720e6a62-ab5e-4930-b78a-95768fbd92a9",
   "metadata": {
    "tags": []
   },
   "outputs": [
    {
     "name": "stdout",
     "output_type": "stream",
     "text": [
      "1\n",
      "2\n",
      "3\n",
      "4\n",
      "5\n"
     ]
    }
   ],
   "source": [
    "n_splits = 5\n",
    "gkf = GroupKFold(n_splits = n_splits)\n",
    "\n",
    "counter = 0\n",
    "for idx, (train_idx, valid_idx) in enumerate(gkf.split(X_train, \n",
    "                                                       y_train, \n",
    "                                                       groups=X_train.index.get_level_values(1).to_list())):\n",
    "    X_tr, X_val = X_train.iloc[train_idx], X_train.iloc[valid_idx]\n",
    "    y_tr, y_val = y_train.iloc[train_idx], y_train.iloc[valid_idx]\n",
    "    counter += 1\n",
    "    print(counter)"
   ]
  },
  {
   "cell_type": "markdown",
   "id": "f01f5342-3a69-4c87-af25-98661e34f571",
   "metadata": {
    "tags": []
   },
   "source": [
    "Notes\n",
    "* You should be using a time-based split. You can take into account the previous average by building id. "
   ]
  },
  {
   "cell_type": "code",
   "execution_count": 63,
   "id": "d7eaef9c-0b74-4df7-a340-268a8af53cbe",
   "metadata": {
    "tags": []
   },
   "outputs": [
    {
     "data": {
      "text/html": [
       "<div>\n",
       "<style scoped>\n",
       "    .dataframe tbody tr th:only-of-type {\n",
       "        vertical-align: middle;\n",
       "    }\n",
       "\n",
       "    .dataframe tbody tr th {\n",
       "        vertical-align: top;\n",
       "    }\n",
       "\n",
       "    .dataframe thead th {\n",
       "        text-align: right;\n",
       "    }\n",
       "</style>\n",
       "<table border=\"1\" class=\"dataframe\">\n",
       "  <thead>\n",
       "    <tr style=\"text-align: right;\">\n",
       "      <th></th>\n",
       "      <th>meter_reading</th>\n",
       "    </tr>\n",
       "    <tr>\n",
       "      <th>timestamp</th>\n",
       "      <th></th>\n",
       "    </tr>\n",
       "  </thead>\n",
       "  <tbody>\n",
       "    <tr>\n",
       "      <th>2016-01-01 00:00:00</th>\n",
       "      <td>167.392</td>\n",
       "    </tr>\n",
       "    <tr>\n",
       "      <th>2016-01-01 01:00:00</th>\n",
       "      <td>334.784</td>\n",
       "    </tr>\n",
       "    <tr>\n",
       "      <th>2016-01-01 02:00:00</th>\n",
       "      <td>1.000</td>\n",
       "    </tr>\n",
       "    <tr>\n",
       "      <th>2016-01-01 03:00:00</th>\n",
       "      <td>1.000</td>\n",
       "    </tr>\n",
       "    <tr>\n",
       "      <th>2016-01-01 04:00:00</th>\n",
       "      <td>1.000</td>\n",
       "    </tr>\n",
       "    <tr>\n",
       "      <th>...</th>\n",
       "      <td>...</td>\n",
       "    </tr>\n",
       "    <tr>\n",
       "      <th>2016-12-31 19:00:00</th>\n",
       "      <td>303.000</td>\n",
       "    </tr>\n",
       "    <tr>\n",
       "      <th>2016-12-31 20:00:00</th>\n",
       "      <td>299.125</td>\n",
       "    </tr>\n",
       "    <tr>\n",
       "      <th>2016-12-31 21:00:00</th>\n",
       "      <td>300.625</td>\n",
       "    </tr>\n",
       "    <tr>\n",
       "      <th>2016-12-31 22:00:00</th>\n",
       "      <td>302.125</td>\n",
       "    </tr>\n",
       "    <tr>\n",
       "      <th>2016-12-31 23:00:00</th>\n",
       "      <td>283.500</td>\n",
       "    </tr>\n",
       "  </tbody>\n",
       "</table>\n",
       "<p>7142 rows × 1 columns</p>\n",
       "</div>"
      ],
      "text/plain": [
       "                     meter_reading\n",
       "timestamp                         \n",
       "2016-01-01 00:00:00        167.392\n",
       "2016-01-01 01:00:00        334.784\n",
       "2016-01-01 02:00:00          1.000\n",
       "2016-01-01 03:00:00          1.000\n",
       "2016-01-01 04:00:00          1.000\n",
       "...                            ...\n",
       "2016-12-31 19:00:00        303.000\n",
       "2016-12-31 20:00:00        299.125\n",
       "2016-12-31 21:00:00        300.625\n",
       "2016-12-31 22:00:00        302.125\n",
       "2016-12-31 23:00:00        283.500\n",
       "\n",
       "[7142 rows x 1 columns]"
      ]
     },
     "execution_count": 63,
     "metadata": {},
     "output_type": "execute_result"
    }
   ],
   "source": [
    "X_val.xs(111, level=1, axis=0)"
   ]
  },
  {
   "cell_type": "code",
   "execution_count": 52,
   "id": "b4ff5fc1-54e5-4271-9557-0b3f3339e1e4",
   "metadata": {
    "tags": []
   },
   "outputs": [
    {
     "data": {
      "text/plain": [
       "(1316818, 1)"
      ]
     },
     "execution_count": 52,
     "metadata": {},
     "output_type": "execute_result"
    }
   ],
   "source": [
    "X_train.shape"
   ]
  },
  {
   "cell_type": "code",
   "execution_count": null,
   "id": "7f0067f0-7388-4e94-a157-561fa89c6462",
   "metadata": {},
   "outputs": [],
   "source": [
    "from sklearn.model_selection import GroupShuffleSplit\n",
    "gss = GroupShuffleSplit(n_splits=2, test_size=.2, random_state=42)\n",
    "\n",
    "for train_index, valid_index in gss.split(data, groups = data.building_id):\n",
    "    train, valid = data.iloc[train_index], data.iloc[valid_index]"
   ]
  },
  {
   "cell_type": "markdown",
   "id": "a605f84b-8a06-4cb6-a23a-b1a76920ea87",
   "metadata": {},
   "source": [
    "You should split by both group and timestamp"
   ]
  },
  {
   "cell_type": "code",
   "execution_count": 14,
   "id": "d3ac9d92-de9d-4c4e-a594-ab3a53de05db",
   "metadata": {
    "tags": []
   },
   "outputs": [
    {
     "name": "stdout",
     "output_type": "stream",
     "text": [
      "TRAIN: [0 1 2 3] TEST: [4 5]\n",
      "TRAIN: [0 1 2 3 4 5] TEST: [6 7]\n",
      "TRAIN: [0 1 2 3 4 5 6 7] TEST: [8 9]\n"
     ]
    }
   ],
   "source": [
    "from sklearn.model_selection import TimeSeriesSplit\n",
    "\n",
    "# Example data\n",
    "X = np.array([[1], [2], [3], [4], [5], [6], [7], [8], [9], [10]])\n",
    "y = np.array([1, 2, 3, 4, 5, 6, 7, 8, 9, 10])\n",
    "\n",
    "# TimeSeriesSplit object\n",
    "tscv = TimeSeriesSplit(n_splits=3)\n",
    "\n",
    "# Performing the split\n",
    "for train_index, test_index in tscv.split(X):\n",
    "    print(\"TRAIN:\", train_index, \"TEST:\", test_index)\n",
    "    X_train, X_test = X[train_index], X[test_index]\n",
    "    y_train, y_test = y[train_index], y[test_index]\n"
   ]
  },
  {
   "cell_type": "code",
   "execution_count": 22,
   "id": "5e5670eb-654f-40ca-be24-1c70c198c1ea",
   "metadata": {
    "tags": []
   },
   "outputs": [],
   "source": [
    "from sklearn.datasets import make_classification\n",
    "X, y = make_classification(n_samples = 20)"
   ]
  },
  {
   "cell_type": "code",
   "execution_count": 25,
   "id": "1e02aa96-d7b3-4365-a198-1353fec77252",
   "metadata": {
    "tags": []
   },
   "outputs": [
    {
     "data": {
      "text/html": [
       "<div>\n",
       "<style scoped>\n",
       "    .dataframe tbody tr th:only-of-type {\n",
       "        vertical-align: middle;\n",
       "    }\n",
       "\n",
       "    .dataframe tbody tr th {\n",
       "        vertical-align: top;\n",
       "    }\n",
       "\n",
       "    .dataframe thead th {\n",
       "        text-align: right;\n",
       "    }\n",
       "</style>\n",
       "<table border=\"1\" class=\"dataframe\">\n",
       "  <thead>\n",
       "    <tr style=\"text-align: right;\">\n",
       "      <th></th>\n",
       "      <th>0</th>\n",
       "      <th>1</th>\n",
       "      <th>2</th>\n",
       "      <th>3</th>\n",
       "      <th>4</th>\n",
       "      <th>5</th>\n",
       "      <th>6</th>\n",
       "      <th>7</th>\n",
       "      <th>8</th>\n",
       "      <th>9</th>\n",
       "      <th>...</th>\n",
       "      <th>11</th>\n",
       "      <th>12</th>\n",
       "      <th>13</th>\n",
       "      <th>14</th>\n",
       "      <th>15</th>\n",
       "      <th>16</th>\n",
       "      <th>17</th>\n",
       "      <th>18</th>\n",
       "      <th>19</th>\n",
       "      <th>date_time</th>\n",
       "    </tr>\n",
       "  </thead>\n",
       "  <tbody>\n",
       "    <tr>\n",
       "      <th>0</th>\n",
       "      <td>0.588561</td>\n",
       "      <td>-0.193243</td>\n",
       "      <td>-1.227080</td>\n",
       "      <td>-0.000495</td>\n",
       "      <td>0.726908</td>\n",
       "      <td>-0.886884</td>\n",
       "      <td>-0.282666</td>\n",
       "      <td>-0.404685</td>\n",
       "      <td>-1.652335</td>\n",
       "      <td>-0.607070</td>\n",
       "      <td>...</td>\n",
       "      <td>-0.258870</td>\n",
       "      <td>1.539722</td>\n",
       "      <td>1.489480</td>\n",
       "      <td>1.091638</td>\n",
       "      <td>1.367810</td>\n",
       "      <td>-0.353755</td>\n",
       "      <td>0.784078</td>\n",
       "      <td>-0.391407</td>\n",
       "      <td>-0.635673</td>\n",
       "      <td>2022-10-01</td>\n",
       "    </tr>\n",
       "    <tr>\n",
       "      <th>1</th>\n",
       "      <td>-0.678700</td>\n",
       "      <td>0.365945</td>\n",
       "      <td>0.564208</td>\n",
       "      <td>0.297455</td>\n",
       "      <td>-0.152935</td>\n",
       "      <td>0.972394</td>\n",
       "      <td>0.342109</td>\n",
       "      <td>0.204658</td>\n",
       "      <td>0.059072</td>\n",
       "      <td>-0.382680</td>\n",
       "      <td>...</td>\n",
       "      <td>0.096582</td>\n",
       "      <td>1.081056</td>\n",
       "      <td>-0.278623</td>\n",
       "      <td>-1.725578</td>\n",
       "      <td>0.571373</td>\n",
       "      <td>-0.910999</td>\n",
       "      <td>-1.057464</td>\n",
       "      <td>0.061668</td>\n",
       "      <td>0.850646</td>\n",
       "      <td>2022-10-02</td>\n",
       "    </tr>\n",
       "    <tr>\n",
       "      <th>2</th>\n",
       "      <td>0.067124</td>\n",
       "      <td>-0.531725</td>\n",
       "      <td>-0.826345</td>\n",
       "      <td>-0.403787</td>\n",
       "      <td>0.507967</td>\n",
       "      <td>0.194544</td>\n",
       "      <td>-0.064925</td>\n",
       "      <td>-0.492427</td>\n",
       "      <td>0.327256</td>\n",
       "      <td>1.184605</td>\n",
       "      <td>...</td>\n",
       "      <td>-0.156632</td>\n",
       "      <td>-1.809878</td>\n",
       "      <td>-0.555484</td>\n",
       "      <td>2.449850</td>\n",
       "      <td>0.513788</td>\n",
       "      <td>0.626716</td>\n",
       "      <td>0.379857</td>\n",
       "      <td>1.328182</td>\n",
       "      <td>-1.217309</td>\n",
       "      <td>2022-10-03</td>\n",
       "    </tr>\n",
       "    <tr>\n",
       "      <th>3</th>\n",
       "      <td>-0.579354</td>\n",
       "      <td>0.772520</td>\n",
       "      <td>1.042365</td>\n",
       "      <td>1.016934</td>\n",
       "      <td>-0.056837</td>\n",
       "      <td>0.499802</td>\n",
       "      <td>-0.157241</td>\n",
       "      <td>0.998218</td>\n",
       "      <td>0.554115</td>\n",
       "      <td>0.023337</td>\n",
       "      <td>...</td>\n",
       "      <td>-1.222974</td>\n",
       "      <td>-0.275133</td>\n",
       "      <td>1.718604</td>\n",
       "      <td>0.637060</td>\n",
       "      <td>-0.438652</td>\n",
       "      <td>2.209976</td>\n",
       "      <td>0.969544</td>\n",
       "      <td>-0.317953</td>\n",
       "      <td>-0.899604</td>\n",
       "      <td>2022-10-04</td>\n",
       "    </tr>\n",
       "    <tr>\n",
       "      <th>4</th>\n",
       "      <td>-1.249835</td>\n",
       "      <td>0.238171</td>\n",
       "      <td>-0.504418</td>\n",
       "      <td>1.475661</td>\n",
       "      <td>-0.200072</td>\n",
       "      <td>2.124302</td>\n",
       "      <td>0.186242</td>\n",
       "      <td>-0.371064</td>\n",
       "      <td>1.398202</td>\n",
       "      <td>-0.211909</td>\n",
       "      <td>...</td>\n",
       "      <td>-1.308797</td>\n",
       "      <td>-0.297016</td>\n",
       "      <td>0.949872</td>\n",
       "      <td>-1.036064</td>\n",
       "      <td>0.064619</td>\n",
       "      <td>0.200498</td>\n",
       "      <td>2.410334</td>\n",
       "      <td>-1.055133</td>\n",
       "      <td>-0.163325</td>\n",
       "      <td>2022-10-05</td>\n",
       "    </tr>\n",
       "    <tr>\n",
       "      <th>5</th>\n",
       "      <td>-0.409181</td>\n",
       "      <td>0.265052</td>\n",
       "      <td>-0.616556</td>\n",
       "      <td>-1.596499</td>\n",
       "      <td>-1.537053</td>\n",
       "      <td>-2.736980</td>\n",
       "      <td>-0.273126</td>\n",
       "      <td>0.024902</td>\n",
       "      <td>0.548044</td>\n",
       "      <td>1.969280</td>\n",
       "      <td>...</td>\n",
       "      <td>1.593344</td>\n",
       "      <td>0.931128</td>\n",
       "      <td>0.539993</td>\n",
       "      <td>0.374438</td>\n",
       "      <td>0.670442</td>\n",
       "      <td>1.451918</td>\n",
       "      <td>1.287270</td>\n",
       "      <td>-0.030703</td>\n",
       "      <td>0.611550</td>\n",
       "      <td>2022-10-06</td>\n",
       "    </tr>\n",
       "    <tr>\n",
       "      <th>6</th>\n",
       "      <td>-0.813102</td>\n",
       "      <td>-0.847842</td>\n",
       "      <td>-1.166734</td>\n",
       "      <td>0.371249</td>\n",
       "      <td>1.051007</td>\n",
       "      <td>0.320052</td>\n",
       "      <td>-0.212405</td>\n",
       "      <td>0.063099</td>\n",
       "      <td>0.920132</td>\n",
       "      <td>0.025150</td>\n",
       "      <td>...</td>\n",
       "      <td>-0.736779</td>\n",
       "      <td>1.528494</td>\n",
       "      <td>-0.947632</td>\n",
       "      <td>1.454334</td>\n",
       "      <td>0.333640</td>\n",
       "      <td>-0.742174</td>\n",
       "      <td>0.036973</td>\n",
       "      <td>0.886268</td>\n",
       "      <td>-1.040150</td>\n",
       "      <td>2022-10-07</td>\n",
       "    </tr>\n",
       "    <tr>\n",
       "      <th>7</th>\n",
       "      <td>-1.013868</td>\n",
       "      <td>0.631950</td>\n",
       "      <td>0.260155</td>\n",
       "      <td>1.560572</td>\n",
       "      <td>-0.737168</td>\n",
       "      <td>-1.328835</td>\n",
       "      <td>-1.563710</td>\n",
       "      <td>-2.026295</td>\n",
       "      <td>1.678776</td>\n",
       "      <td>-1.043088</td>\n",
       "      <td>...</td>\n",
       "      <td>-1.467828</td>\n",
       "      <td>0.637047</td>\n",
       "      <td>-1.138001</td>\n",
       "      <td>-0.743339</td>\n",
       "      <td>2.609878</td>\n",
       "      <td>0.588979</td>\n",
       "      <td>-0.332431</td>\n",
       "      <td>-0.947573</td>\n",
       "      <td>-0.377978</td>\n",
       "      <td>2022-10-08</td>\n",
       "    </tr>\n",
       "    <tr>\n",
       "      <th>8</th>\n",
       "      <td>0.811173</td>\n",
       "      <td>-0.772080</td>\n",
       "      <td>1.318403</td>\n",
       "      <td>-0.595384</td>\n",
       "      <td>-0.112518</td>\n",
       "      <td>-1.053627</td>\n",
       "      <td>-0.004755</td>\n",
       "      <td>-1.563355</td>\n",
       "      <td>0.288746</td>\n",
       "      <td>-1.122610</td>\n",
       "      <td>...</td>\n",
       "      <td>1.030380</td>\n",
       "      <td>0.374095</td>\n",
       "      <td>-1.130289</td>\n",
       "      <td>-1.695976</td>\n",
       "      <td>0.330837</td>\n",
       "      <td>-1.253061</td>\n",
       "      <td>-0.199475</td>\n",
       "      <td>0.051984</td>\n",
       "      <td>1.297398</td>\n",
       "      <td>2022-10-09</td>\n",
       "    </tr>\n",
       "    <tr>\n",
       "      <th>9</th>\n",
       "      <td>-0.039829</td>\n",
       "      <td>-0.212668</td>\n",
       "      <td>-0.713316</td>\n",
       "      <td>-2.119751</td>\n",
       "      <td>1.950223</td>\n",
       "      <td>-0.647299</td>\n",
       "      <td>0.119071</td>\n",
       "      <td>-0.609751</td>\n",
       "      <td>-2.044126</td>\n",
       "      <td>-0.434583</td>\n",
       "      <td>...</td>\n",
       "      <td>2.574638</td>\n",
       "      <td>-0.468290</td>\n",
       "      <td>-0.641211</td>\n",
       "      <td>-1.434844</td>\n",
       "      <td>-0.417315</td>\n",
       "      <td>-1.126104</td>\n",
       "      <td>-1.822163</td>\n",
       "      <td>1.562314</td>\n",
       "      <td>1.937468</td>\n",
       "      <td>2022-10-10</td>\n",
       "    </tr>\n",
       "    <tr>\n",
       "      <th>10</th>\n",
       "      <td>0.137004</td>\n",
       "      <td>-0.188783</td>\n",
       "      <td>0.758203</td>\n",
       "      <td>0.524899</td>\n",
       "      <td>1.127860</td>\n",
       "      <td>0.089232</td>\n",
       "      <td>2.170380</td>\n",
       "      <td>0.462369</td>\n",
       "      <td>-1.186121</td>\n",
       "      <td>-1.419356</td>\n",
       "      <td>...</td>\n",
       "      <td>-0.401657</td>\n",
       "      <td>0.915605</td>\n",
       "      <td>1.076336</td>\n",
       "      <td>-0.637403</td>\n",
       "      <td>0.240644</td>\n",
       "      <td>-0.461454</td>\n",
       "      <td>0.608934</td>\n",
       "      <td>-2.043695</td>\n",
       "      <td>0.098534</td>\n",
       "      <td>2022-10-11</td>\n",
       "    </tr>\n",
       "    <tr>\n",
       "      <th>11</th>\n",
       "      <td>0.602059</td>\n",
       "      <td>0.202033</td>\n",
       "      <td>0.734902</td>\n",
       "      <td>1.059770</td>\n",
       "      <td>-0.514415</td>\n",
       "      <td>0.481215</td>\n",
       "      <td>0.541166</td>\n",
       "      <td>2.294169</td>\n",
       "      <td>3.046204</td>\n",
       "      <td>0.199482</td>\n",
       "      <td>...</td>\n",
       "      <td>-1.320664</td>\n",
       "      <td>-2.108603</td>\n",
       "      <td>-0.172118</td>\n",
       "      <td>0.858221</td>\n",
       "      <td>2.102746</td>\n",
       "      <td>-1.128023</td>\n",
       "      <td>-1.416708</td>\n",
       "      <td>-1.953484</td>\n",
       "      <td>-1.050701</td>\n",
       "      <td>2022-10-12</td>\n",
       "    </tr>\n",
       "    <tr>\n",
       "      <th>12</th>\n",
       "      <td>0.374803</td>\n",
       "      <td>-0.757663</td>\n",
       "      <td>-0.095752</td>\n",
       "      <td>-1.031550</td>\n",
       "      <td>-1.177372</td>\n",
       "      <td>1.482380</td>\n",
       "      <td>1.453928</td>\n",
       "      <td>-1.590836</td>\n",
       "      <td>1.796311</td>\n",
       "      <td>-0.169325</td>\n",
       "      <td>...</td>\n",
       "      <td>1.446516</td>\n",
       "      <td>1.122881</td>\n",
       "      <td>0.326892</td>\n",
       "      <td>-1.513015</td>\n",
       "      <td>-0.068152</td>\n",
       "      <td>1.199211</td>\n",
       "      <td>0.939924</td>\n",
       "      <td>0.425633</td>\n",
       "      <td>1.417483</td>\n",
       "      <td>2022-10-13</td>\n",
       "    </tr>\n",
       "    <tr>\n",
       "      <th>13</th>\n",
       "      <td>0.817616</td>\n",
       "      <td>0.227896</td>\n",
       "      <td>-0.383804</td>\n",
       "      <td>1.687378</td>\n",
       "      <td>1.025140</td>\n",
       "      <td>-0.792402</td>\n",
       "      <td>1.349026</td>\n",
       "      <td>-0.955395</td>\n",
       "      <td>-0.077612</td>\n",
       "      <td>0.058924</td>\n",
       "      <td>...</td>\n",
       "      <td>-1.593935</td>\n",
       "      <td>-0.013341</td>\n",
       "      <td>-0.369872</td>\n",
       "      <td>-0.774971</td>\n",
       "      <td>0.886002</td>\n",
       "      <td>0.142973</td>\n",
       "      <td>-0.617828</td>\n",
       "      <td>0.436464</td>\n",
       "      <td>-0.425450</td>\n",
       "      <td>2022-10-14</td>\n",
       "    </tr>\n",
       "    <tr>\n",
       "      <th>14</th>\n",
       "      <td>0.199542</td>\n",
       "      <td>0.429607</td>\n",
       "      <td>-1.177658</td>\n",
       "      <td>-0.593156</td>\n",
       "      <td>-0.204947</td>\n",
       "      <td>2.150330</td>\n",
       "      <td>0.425250</td>\n",
       "      <td>-0.160751</td>\n",
       "      <td>-2.359723</td>\n",
       "      <td>-0.724607</td>\n",
       "      <td>...</td>\n",
       "      <td>0.426888</td>\n",
       "      <td>1.338232</td>\n",
       "      <td>0.985847</td>\n",
       "      <td>0.833915</td>\n",
       "      <td>-0.629876</td>\n",
       "      <td>0.707656</td>\n",
       "      <td>-0.367759</td>\n",
       "      <td>0.058448</td>\n",
       "      <td>-0.177539</td>\n",
       "      <td>2022-10-15</td>\n",
       "    </tr>\n",
       "    <tr>\n",
       "      <th>15</th>\n",
       "      <td>1.245398</td>\n",
       "      <td>0.953044</td>\n",
       "      <td>1.329200</td>\n",
       "      <td>0.532921</td>\n",
       "      <td>-0.733948</td>\n",
       "      <td>-0.383998</td>\n",
       "      <td>0.391262</td>\n",
       "      <td>-0.333852</td>\n",
       "      <td>-0.820489</td>\n",
       "      <td>2.538836</td>\n",
       "      <td>...</td>\n",
       "      <td>-0.785393</td>\n",
       "      <td>0.637983</td>\n",
       "      <td>1.377474</td>\n",
       "      <td>0.941960</td>\n",
       "      <td>0.643013</td>\n",
       "      <td>-0.585479</td>\n",
       "      <td>0.731296</td>\n",
       "      <td>0.726967</td>\n",
       "      <td>-0.825687</td>\n",
       "      <td>2022-10-16</td>\n",
       "    </tr>\n",
       "    <tr>\n",
       "      <th>16</th>\n",
       "      <td>-0.258421</td>\n",
       "      <td>0.964839</td>\n",
       "      <td>-0.131903</td>\n",
       "      <td>-0.986101</td>\n",
       "      <td>0.133730</td>\n",
       "      <td>-0.898891</td>\n",
       "      <td>1.841684</td>\n",
       "      <td>0.189946</td>\n",
       "      <td>-0.174089</td>\n",
       "      <td>-1.199357</td>\n",
       "      <td>...</td>\n",
       "      <td>1.201172</td>\n",
       "      <td>-1.004652</td>\n",
       "      <td>0.552387</td>\n",
       "      <td>-0.682043</td>\n",
       "      <td>0.272250</td>\n",
       "      <td>1.635310</td>\n",
       "      <td>0.018839</td>\n",
       "      <td>0.089802</td>\n",
       "      <td>0.909784</td>\n",
       "      <td>2022-10-17</td>\n",
       "    </tr>\n",
       "    <tr>\n",
       "      <th>17</th>\n",
       "      <td>-0.113796</td>\n",
       "      <td>2.017998</td>\n",
       "      <td>0.636109</td>\n",
       "      <td>-1.032593</td>\n",
       "      <td>2.246343</td>\n",
       "      <td>0.052095</td>\n",
       "      <td>-2.080197</td>\n",
       "      <td>-1.991911</td>\n",
       "      <td>-2.114187</td>\n",
       "      <td>-0.989763</td>\n",
       "      <td>...</td>\n",
       "      <td>0.765732</td>\n",
       "      <td>-0.147039</td>\n",
       "      <td>-0.495361</td>\n",
       "      <td>1.356667</td>\n",
       "      <td>-1.309554</td>\n",
       "      <td>-0.473932</td>\n",
       "      <td>-2.170173</td>\n",
       "      <td>-0.474695</td>\n",
       "      <td>-0.253698</td>\n",
       "      <td>2022-10-18</td>\n",
       "    </tr>\n",
       "    <tr>\n",
       "      <th>18</th>\n",
       "      <td>-0.164774</td>\n",
       "      <td>0.565467</td>\n",
       "      <td>0.581206</td>\n",
       "      <td>1.574734</td>\n",
       "      <td>0.827502</td>\n",
       "      <td>0.779497</td>\n",
       "      <td>-0.396507</td>\n",
       "      <td>-0.821594</td>\n",
       "      <td>-2.053966</td>\n",
       "      <td>0.407907</td>\n",
       "      <td>...</td>\n",
       "      <td>-1.369487</td>\n",
       "      <td>1.162608</td>\n",
       "      <td>0.380522</td>\n",
       "      <td>-1.220009</td>\n",
       "      <td>-0.610715</td>\n",
       "      <td>-0.274768</td>\n",
       "      <td>-1.347066</td>\n",
       "      <td>-1.633035</td>\n",
       "      <td>-0.107655</td>\n",
       "      <td>2022-10-19</td>\n",
       "    </tr>\n",
       "    <tr>\n",
       "      <th>19</th>\n",
       "      <td>-0.659834</td>\n",
       "      <td>-1.422718</td>\n",
       "      <td>0.082241</td>\n",
       "      <td>-2.243068</td>\n",
       "      <td>0.682794</td>\n",
       "      <td>-1.752388</td>\n",
       "      <td>1.119363</td>\n",
       "      <td>0.237701</td>\n",
       "      <td>0.451706</td>\n",
       "      <td>-1.659473</td>\n",
       "      <td>...</td>\n",
       "      <td>2.592418</td>\n",
       "      <td>1.057251</td>\n",
       "      <td>0.151936</td>\n",
       "      <td>-0.962800</td>\n",
       "      <td>0.018063</td>\n",
       "      <td>-0.751114</td>\n",
       "      <td>0.531982</td>\n",
       "      <td>0.001934</td>\n",
       "      <td>1.726566</td>\n",
       "      <td>2022-10-20</td>\n",
       "    </tr>\n",
       "  </tbody>\n",
       "</table>\n",
       "<p>20 rows × 21 columns</p>\n",
       "</div>"
      ],
      "text/plain": [
       "           0         1         2         3         4         5         6  \\\n",
       "0   0.588561 -0.193243 -1.227080 -0.000495  0.726908 -0.886884 -0.282666   \n",
       "1  -0.678700  0.365945  0.564208  0.297455 -0.152935  0.972394  0.342109   \n",
       "2   0.067124 -0.531725 -0.826345 -0.403787  0.507967  0.194544 -0.064925   \n",
       "3  -0.579354  0.772520  1.042365  1.016934 -0.056837  0.499802 -0.157241   \n",
       "4  -1.249835  0.238171 -0.504418  1.475661 -0.200072  2.124302  0.186242   \n",
       "5  -0.409181  0.265052 -0.616556 -1.596499 -1.537053 -2.736980 -0.273126   \n",
       "6  -0.813102 -0.847842 -1.166734  0.371249  1.051007  0.320052 -0.212405   \n",
       "7  -1.013868  0.631950  0.260155  1.560572 -0.737168 -1.328835 -1.563710   \n",
       "8   0.811173 -0.772080  1.318403 -0.595384 -0.112518 -1.053627 -0.004755   \n",
       "9  -0.039829 -0.212668 -0.713316 -2.119751  1.950223 -0.647299  0.119071   \n",
       "10  0.137004 -0.188783  0.758203  0.524899  1.127860  0.089232  2.170380   \n",
       "11  0.602059  0.202033  0.734902  1.059770 -0.514415  0.481215  0.541166   \n",
       "12  0.374803 -0.757663 -0.095752 -1.031550 -1.177372  1.482380  1.453928   \n",
       "13  0.817616  0.227896 -0.383804  1.687378  1.025140 -0.792402  1.349026   \n",
       "14  0.199542  0.429607 -1.177658 -0.593156 -0.204947  2.150330  0.425250   \n",
       "15  1.245398  0.953044  1.329200  0.532921 -0.733948 -0.383998  0.391262   \n",
       "16 -0.258421  0.964839 -0.131903 -0.986101  0.133730 -0.898891  1.841684   \n",
       "17 -0.113796  2.017998  0.636109 -1.032593  2.246343  0.052095 -2.080197   \n",
       "18 -0.164774  0.565467  0.581206  1.574734  0.827502  0.779497 -0.396507   \n",
       "19 -0.659834 -1.422718  0.082241 -2.243068  0.682794 -1.752388  1.119363   \n",
       "\n",
       "           7         8         9  ...        11        12        13        14  \\\n",
       "0  -0.404685 -1.652335 -0.607070  ... -0.258870  1.539722  1.489480  1.091638   \n",
       "1   0.204658  0.059072 -0.382680  ...  0.096582  1.081056 -0.278623 -1.725578   \n",
       "2  -0.492427  0.327256  1.184605  ... -0.156632 -1.809878 -0.555484  2.449850   \n",
       "3   0.998218  0.554115  0.023337  ... -1.222974 -0.275133  1.718604  0.637060   \n",
       "4  -0.371064  1.398202 -0.211909  ... -1.308797 -0.297016  0.949872 -1.036064   \n",
       "5   0.024902  0.548044  1.969280  ...  1.593344  0.931128  0.539993  0.374438   \n",
       "6   0.063099  0.920132  0.025150  ... -0.736779  1.528494 -0.947632  1.454334   \n",
       "7  -2.026295  1.678776 -1.043088  ... -1.467828  0.637047 -1.138001 -0.743339   \n",
       "8  -1.563355  0.288746 -1.122610  ...  1.030380  0.374095 -1.130289 -1.695976   \n",
       "9  -0.609751 -2.044126 -0.434583  ...  2.574638 -0.468290 -0.641211 -1.434844   \n",
       "10  0.462369 -1.186121 -1.419356  ... -0.401657  0.915605  1.076336 -0.637403   \n",
       "11  2.294169  3.046204  0.199482  ... -1.320664 -2.108603 -0.172118  0.858221   \n",
       "12 -1.590836  1.796311 -0.169325  ...  1.446516  1.122881  0.326892 -1.513015   \n",
       "13 -0.955395 -0.077612  0.058924  ... -1.593935 -0.013341 -0.369872 -0.774971   \n",
       "14 -0.160751 -2.359723 -0.724607  ...  0.426888  1.338232  0.985847  0.833915   \n",
       "15 -0.333852 -0.820489  2.538836  ... -0.785393  0.637983  1.377474  0.941960   \n",
       "16  0.189946 -0.174089 -1.199357  ...  1.201172 -1.004652  0.552387 -0.682043   \n",
       "17 -1.991911 -2.114187 -0.989763  ...  0.765732 -0.147039 -0.495361  1.356667   \n",
       "18 -0.821594 -2.053966  0.407907  ... -1.369487  1.162608  0.380522 -1.220009   \n",
       "19  0.237701  0.451706 -1.659473  ...  2.592418  1.057251  0.151936 -0.962800   \n",
       "\n",
       "          15        16        17        18        19  date_time  \n",
       "0   1.367810 -0.353755  0.784078 -0.391407 -0.635673 2022-10-01  \n",
       "1   0.571373 -0.910999 -1.057464  0.061668  0.850646 2022-10-02  \n",
       "2   0.513788  0.626716  0.379857  1.328182 -1.217309 2022-10-03  \n",
       "3  -0.438652  2.209976  0.969544 -0.317953 -0.899604 2022-10-04  \n",
       "4   0.064619  0.200498  2.410334 -1.055133 -0.163325 2022-10-05  \n",
       "5   0.670442  1.451918  1.287270 -0.030703  0.611550 2022-10-06  \n",
       "6   0.333640 -0.742174  0.036973  0.886268 -1.040150 2022-10-07  \n",
       "7   2.609878  0.588979 -0.332431 -0.947573 -0.377978 2022-10-08  \n",
       "8   0.330837 -1.253061 -0.199475  0.051984  1.297398 2022-10-09  \n",
       "9  -0.417315 -1.126104 -1.822163  1.562314  1.937468 2022-10-10  \n",
       "10  0.240644 -0.461454  0.608934 -2.043695  0.098534 2022-10-11  \n",
       "11  2.102746 -1.128023 -1.416708 -1.953484 -1.050701 2022-10-12  \n",
       "12 -0.068152  1.199211  0.939924  0.425633  1.417483 2022-10-13  \n",
       "13  0.886002  0.142973 -0.617828  0.436464 -0.425450 2022-10-14  \n",
       "14 -0.629876  0.707656 -0.367759  0.058448 -0.177539 2022-10-15  \n",
       "15  0.643013 -0.585479  0.731296  0.726967 -0.825687 2022-10-16  \n",
       "16  0.272250  1.635310  0.018839  0.089802  0.909784 2022-10-17  \n",
       "17 -1.309554 -0.473932 -2.170173 -0.474695 -0.253698 2022-10-18  \n",
       "18 -0.610715 -0.274768 -1.347066 -1.633035 -0.107655 2022-10-19  \n",
       "19  0.018063 -0.751114  0.531982  0.001934  1.726566 2022-10-20  \n",
       "\n",
       "[20 rows x 21 columns]"
      ]
     },
     "execution_count": 25,
     "metadata": {},
     "output_type": "execute_result"
    }
   ],
   "source": [
    "X_df = pd.DataFrame(X)\n",
    "X_df['date_time'] = pd.to_datetime('10-01-2022')\n",
    "\n",
    "for index, row in X_df.iterrows():\n",
    "    X_df.loc[index, ['date_time']] = X_df.loc[index, ['date_time']] + pd.Timedelta(days = index)\n",
    "    \n",
    "X_df"
   ]
  },
  {
   "cell_type": "code",
   "execution_count": 26,
   "id": "74ad8abd-4adf-4d14-99a1-a414ae8acb2e",
   "metadata": {
    "tags": []
   },
   "outputs": [
    {
     "data": {
      "text/plain": [
       "[(array([0, 1, 2, 3, 4, 5, 6, 7, 8]), array([ 9, 10])),\n",
       " (array([ 2,  3,  4,  5,  6,  7,  8,  9, 10]), array([11, 12])),\n",
       " (array([ 4,  5,  6,  7,  8,  9, 10, 11, 12]), array([13, 14])),\n",
       " (array([ 6,  7,  8,  9, 10, 11, 12, 13, 14]), array([15, 16])),\n",
       " (array([ 8,  9, 10, 11, 12, 13, 14, 15, 16]), array([17, 18]))]"
      ]
     },
     "execution_count": 26,
     "metadata": {},
     "output_type": "execute_result"
    }
   ],
   "source": [
    "cv_splits = RollingTimeSeriesCV(n_splits = 5, test_percent = 0.1)\n",
    "\n",
    "rw_splits = cv_splits.split(X_df, y, 'date_time')\n",
    "rw_splits"
   ]
  },
  {
   "cell_type": "code",
   "execution_count": 23,
   "id": "8e5b49d6-22c7-4b1c-afd0-da161bf5e297",
   "metadata": {
    "tags": []
   },
   "outputs": [],
   "source": [
    "from RollingTimeSeries import RollingTimeSeriesCV"
   ]
  },
  {
   "cell_type": "code",
   "execution_count": 20,
   "id": "8932f608-a28e-47d6-83aa-73b9fe5e52e0",
   "metadata": {
    "tags": []
   },
   "outputs": [
    {
     "data": {
      "text/plain": [
       "MultiIndex([('2016-01-01 00:00:00',  107),\n",
       "            ('2016-01-01 00:00:00',  111),\n",
       "            ('2016-01-01 00:00:00',  117),\n",
       "            ('2016-01-01 00:00:00',  118),\n",
       "            ('2016-01-01 00:00:00',  137),\n",
       "            ('2016-01-01 00:00:00',  139),\n",
       "            ('2016-01-01 00:00:00',  141),\n",
       "            ('2016-01-01 00:00:00',  144),\n",
       "            ('2016-01-01 00:00:00',  147),\n",
       "            ('2016-01-01 00:00:00',  149),\n",
       "            ...\n",
       "            ('2016-12-31 23:00:00', 1303),\n",
       "            ('2016-12-31 23:00:00', 1304),\n",
       "            ('2016-12-31 23:00:00', 1306),\n",
       "            ('2016-12-31 23:00:00', 1310),\n",
       "            ('2016-12-31 23:00:00', 1311),\n",
       "            ('2016-12-31 23:00:00', 1315),\n",
       "            ('2016-12-31 23:00:00', 1316),\n",
       "            ('2016-12-31 23:00:00', 1318),\n",
       "            ('2016-12-31 23:00:00', 1323),\n",
       "            ('2016-12-31 23:00:00', 1353)],\n",
       "           names=['timestamp', 'building_id'], length=1316818)"
      ]
     },
     "execution_count": 20,
     "metadata": {},
     "output_type": "execute_result"
    }
   ],
   "source": [
    "X_train.index"
   ]
  },
  {
   "cell_type": "code",
   "execution_count": null,
   "id": "752f8640-d7c8-4edd-8fe8-f49abdc5820f",
   "metadata": {},
   "outputs": [],
   "source": []
  }
 ],
 "metadata": {
  "kernelspec": {
   "display_name": "mlenv_v1",
   "language": "python",
   "name": "mlenv_v1"
  },
  "language_info": {
   "codemirror_mode": {
    "name": "ipython",
    "version": 3
   },
   "file_extension": ".py",
   "mimetype": "text/x-python",
   "name": "python",
   "nbconvert_exporter": "python",
   "pygments_lexer": "ipython3",
   "version": "3.8.18"
  }
 },
 "nbformat": 4,
 "nbformat_minor": 5
}
